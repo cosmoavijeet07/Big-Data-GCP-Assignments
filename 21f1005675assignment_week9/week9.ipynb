{
  "cells": [
    {
      "cell_type": "code",
      "execution_count": null,
      "id": "e72809c4",
      "metadata": {
        "id": "e72809c4",
        "outputId": "814cfc8a-b0dc-402a-f868-14ee9fbb4438"
      },
      "outputs": [
        {
          "name": "stdout",
          "output_type": "stream",
          "text": [
            "Requirement already satisfied: pyspark in /usr/lib/spark/python (3.5.1)\n",
            "Requirement already satisfied: py4j==0.10.9.7 in /opt/conda/miniconda3/lib/python3.11/site-packages (from pyspark) (0.10.9.7)\n",
            "\u001b[33mWARNING: Running pip as the 'root' user can result in broken permissions and conflicting behaviour with the system package manager. It is recommended to use a virtual environment instead: https://pip.pypa.io/warnings/venv\u001b[0m\u001b[33m\n",
            "\u001b[0mNote: you may need to restart the kernel to use updated packages.\n"
          ]
        }
      ],
      "source": [
        "pip install pyspark"
      ]
    },
    {
      "cell_type": "code",
      "execution_count": null,
      "id": "98158cbb",
      "metadata": {
        "id": "98158cbb"
      },
      "outputs": [],
      "source": [
        "import numpy as np\n",
        "from pyspark.sql import SparkSession\n",
        "from pyspark import SparkContext\n",
        "from pyspark.sql.types import *\n",
        "from pyspark.ml.feature import VectorAssembler\n",
        "from pyspark.ml.tuning import CrossValidator, ParamGridBuilder\n",
        "from pyspark.ml.classification import DecisionTreeClassifier\n",
        "from pyspark.ml.evaluation import MulticlassClassificationEvaluator\n",
        "import matplotlib.pyplot as plt"
      ]
    },
    {
      "cell_type": "code",
      "execution_count": null,
      "id": "3814aead",
      "metadata": {
        "id": "3814aead"
      },
      "outputs": [],
      "source": [
        "fields = [StructField('label', IntegerType(), False)]\n",
        "for i in range(1,29):\n",
        "  for j in range(1,29):\n",
        "    fields.append(StructField(str(i)+'x'+str(j),IntegerType(),True))\n",
        "Schema = StructType(fields)"
      ]
    },
    {
      "cell_type": "code",
      "execution_count": null,
      "id": "e522ac63",
      "metadata": {
        "id": "e522ac63"
      },
      "outputs": [],
      "source": [
        "test_set = spark.read.load(\"gs://week9buc/mnist_test.csv\", format=\"csv\", header=True, schema = Schema)\n",
        "train_set = spark.read.load(\"gs://week9buc/mnist_train.csv\", format=\"csv\", header=True, schema = Schema)"
      ]
    },
    {
      "cell_type": "code",
      "execution_count": null,
      "id": "20cb2c0c",
      "metadata": {
        "id": "20cb2c0c"
      },
      "outputs": [],
      "source": [
        "features = train_set.columns[1:]\n",
        "assembler = VectorAssembler(inputCols=features, outputCol=\"features\")"
      ]
    },
    {
      "cell_type": "code",
      "execution_count": null,
      "id": "d1109f07",
      "metadata": {
        "id": "d1109f07"
      },
      "outputs": [],
      "source": [
        "train_set = assembler.transform(train_set)\n",
        "test_set = assembler.transform(test_set)"
      ]
    },
    {
      "cell_type": "code",
      "execution_count": null,
      "id": "ff1233ef",
      "metadata": {
        "id": "ff1233ef"
      },
      "outputs": [],
      "source": [
        "model = DecisionTreeClassifier(featuresCol = 'features',\n",
        "                               labelCol = 'label', predictionCol = 'prediction')\n",
        "grid = ParamGridBuilder().addGrid(model.maxDepth, [4,8,12,16]).addGrid(model.maxBins, [2,4,8,16]).build()\n",
        "cv = CrossValidator(estimator = model, estimatorParamMaps = grid,\n",
        "                    evaluator = MulticlassClassificationEvaluator(labelCol=\"label\", predictionCol=\"prediction\"),\n",
        "                    numFolds = 5)"
      ]
    },
    {
      "cell_type": "code",
      "execution_count": null,
      "id": "be6bfab2",
      "metadata": {
        "id": "be6bfab2",
        "outputId": "828ba307-8372-43aa-eec2-02e5e9e11ac4"
      },
      "outputs": [
        {
          "name": "stderr",
          "output_type": "stream",
          "text": [
            "24/11/23 20:06:13 WARN SparkStringUtils: Truncated the string representation of a plan since it was too large. This behavior can be adjusted by setting 'spark.sql.debug.maxToStringFields'.\n",
            "24/11/23 20:07:42 WARN DAGScheduler: Broadcasting large task binary with size 1219.1 KiB\n",
            "24/11/23 20:07:43 WARN DAGScheduler: Broadcasting large task binary with size 1108.4 KiB\n",
            "24/11/23 20:07:51 WARN DAGScheduler: Broadcasting large task binary with size 1149.0 KiB\n",
            "24/11/23 20:07:52 WARN DAGScheduler: Broadcasting large task binary with size 1039.0 KiB\n",
            "24/11/23 20:08:02 WARN DAGScheduler: Broadcasting large task binary with size 1170.9 KiB\n",
            "24/11/23 20:08:04 WARN DAGScheduler: Broadcasting large task binary with size 1036.2 KiB\n",
            "24/11/23 20:08:14 WARN DAGScheduler: Broadcasting large task binary with size 1009.5 KiB\n",
            "24/11/23 20:08:16 WARN DAGScheduler: Broadcasting large task binary with size 1154.0 KiB\n",
            "24/11/23 20:08:18 WARN DAGScheduler: Broadcasting large task binary with size 1292.7 KiB\n",
            "24/11/23 20:08:18 WARN DAGScheduler: Broadcasting large task binary with size 1338.4 KiB\n",
            "24/11/23 20:08:20 WARN DAGScheduler: Broadcasting large task binary with size 1019.7 KiB\n",
            "24/11/23 20:08:26 WARN DAGScheduler: Broadcasting large task binary with size 1219.1 KiB\n",
            "24/11/23 20:08:26 WARN DAGScheduler: Broadcasting large task binary with size 1467.0 KiB\n",
            "24/11/23 20:08:27 WARN DAGScheduler: Broadcasting large task binary with size 1684.7 KiB\n",
            "24/11/23 20:08:28 WARN DAGScheduler: Broadcasting large task binary with size 1853.8 KiB\n",
            "24/11/23 20:08:28 WARN DAGScheduler: Broadcasting large task binary with size 1966.6 KiB\n",
            "24/11/23 20:08:29 WARN DAGScheduler: Broadcasting large task binary with size 1474.5 KiB\n",
            "24/11/23 20:08:36 WARN DAGScheduler: Broadcasting large task binary with size 1149.1 KiB\n",
            "24/11/23 20:08:37 WARN DAGScheduler: Broadcasting large task binary with size 1358.7 KiB\n",
            "24/11/23 20:08:38 WARN DAGScheduler: Broadcasting large task binary with size 1545.5 KiB\n",
            "24/11/23 20:08:39 WARN DAGScheduler: Broadcasting large task binary with size 1694.0 KiB\n",
            "24/11/23 20:08:39 WARN DAGScheduler: Broadcasting large task binary with size 1807.6 KiB\n",
            "24/11/23 20:08:40 WARN DAGScheduler: Broadcasting large task binary with size 1383.3 KiB\n",
            "24/11/23 20:08:49 WARN DAGScheduler: Broadcasting large task binary with size 1170.9 KiB\n",
            "24/11/23 20:08:51 WARN DAGScheduler: Broadcasting large task binary with size 1370.6 KiB\n",
            "24/11/23 20:08:52 WARN DAGScheduler: Broadcasting large task binary with size 1556.1 KiB\n",
            "24/11/23 20:08:53 WARN DAGScheduler: Broadcasting large task binary with size 1702.4 KiB\n",
            "24/11/23 20:08:54 WARN DAGScheduler: Broadcasting large task binary with size 1808.6 KiB\n",
            "24/11/23 20:08:55 WARN DAGScheduler: Broadcasting large task binary with size 1367.3 KiB\n",
            "24/11/23 20:09:05 WARN DAGScheduler: Broadcasting large task binary with size 1009.5 KiB\n",
            "24/11/23 20:09:07 WARN DAGScheduler: Broadcasting large task binary with size 1154.0 KiB\n",
            "24/11/23 20:09:09 WARN DAGScheduler: Broadcasting large task binary with size 1298.4 KiB\n",
            "24/11/23 20:09:11 WARN DAGScheduler: Broadcasting large task binary with size 1442.7 KiB\n",
            "24/11/23 20:09:13 WARN DAGScheduler: Broadcasting large task binary with size 1585.3 KiB\n",
            "24/11/23 20:09:15 WARN DAGScheduler: Broadcasting large task binary with size 1700.2 KiB\n",
            "24/11/23 20:09:16 WARN DAGScheduler: Broadcasting large task binary with size 1789.0 KiB\n",
            "24/11/23 20:09:17 WARN DAGScheduler: Broadcasting large task binary with size 1829.8 KiB\n",
            "24/11/23 20:09:18 WARN DAGScheduler: Broadcasting large task binary with size 1866.2 KiB\n",
            "24/11/23 20:09:18 WARN DAGScheduler: Broadcasting large task binary with size 1890.1 KiB\n",
            "24/11/23 20:09:19 WARN DAGScheduler: Broadcasting large task binary with size 1350.3 KiB\n",
            "24/11/23 20:10:17 WARN DAGScheduler: Broadcasting large task binary with size 1002.3 KiB\n",
            "24/11/23 20:10:18 WARN DAGScheduler: Broadcasting large task binary with size 1242.0 KiB\n",
            "24/11/23 20:10:19 WARN DAGScheduler: Broadcasting large task binary with size 1124.3 KiB\n",
            "24/11/23 20:10:26 WARN DAGScheduler: Broadcasting large task binary with size 1158.1 KiB\n",
            "24/11/23 20:10:27 WARN DAGScheduler: Broadcasting large task binary with size 1043.4 KiB\n",
            "24/11/23 20:10:36 WARN DAGScheduler: Broadcasting large task binary with size 1157.8 KiB\n",
            "24/11/23 20:10:38 WARN DAGScheduler: Broadcasting large task binary with size 1030.2 KiB\n",
            "24/11/23 20:10:48 WARN DAGScheduler: Broadcasting large task binary with size 1006.5 KiB\n",
            "24/11/23 20:10:50 WARN DAGScheduler: Broadcasting large task binary with size 1150.5 KiB\n",
            "24/11/23 20:10:52 WARN DAGScheduler: Broadcasting large task binary with size 1288.6 KiB\n",
            "24/11/23 20:10:53 WARN DAGScheduler: Broadcasting large task binary with size 1331.6 KiB\n",
            "24/11/23 20:10:54 WARN DAGScheduler: Broadcasting large task binary with size 1025.8 KiB\n",
            "24/11/23 20:10:59 WARN DAGScheduler: Broadcasting large task binary with size 1002.3 KiB\n",
            "24/11/23 20:11:00 WARN DAGScheduler: Broadcasting large task binary with size 1242.0 KiB\n",
            "24/11/23 20:11:01 WARN DAGScheduler: Broadcasting large task binary with size 1493.7 KiB\n",
            "24/11/23 20:11:01 WARN DAGScheduler: Broadcasting large task binary with size 1714.0 KiB\n",
            "24/11/23 20:11:02 WARN DAGScheduler: Broadcasting large task binary with size 1881.0 KiB\n",
            "24/11/23 20:11:02 WARN DAGScheduler: Broadcasting large task binary with size 1987.1 KiB\n",
            "24/11/23 20:11:03 WARN DAGScheduler: Broadcasting large task binary with size 1486.8 KiB\n",
            "24/11/23 20:11:10 WARN DAGScheduler: Broadcasting large task binary with size 1158.1 KiB\n",
            "24/11/23 20:11:11 WARN DAGScheduler: Broadcasting large task binary with size 1369.9 KiB\n",
            "24/11/23 20:11:12 WARN DAGScheduler: Broadcasting large task binary with size 1558.4 KiB\n",
            "24/11/23 20:11:12 WARN DAGScheduler: Broadcasting large task binary with size 1708.7 KiB\n",
            "24/11/23 20:11:13 WARN DAGScheduler: Broadcasting large task binary with size 1819.4 KiB\n",
            "24/11/23 20:11:14 WARN DAGScheduler: Broadcasting large task binary with size 1386.2 KiB\n",
            "24/11/23 20:11:23 WARN DAGScheduler: Broadcasting large task binary with size 1157.8 KiB\n",
            "24/11/23 20:11:24 WARN DAGScheduler: Broadcasting large task binary with size 1363.2 KiB\n",
            "24/11/23 20:11:26 WARN DAGScheduler: Broadcasting large task binary with size 1551.7 KiB\n",
            "24/11/23 20:11:27 WARN DAGScheduler: Broadcasting large task binary with size 1700.6 KiB\n",
            "24/11/23 20:11:28 WARN DAGScheduler: Broadcasting large task binary with size 1806.8 KiB\n",
            "24/11/23 20:11:29 WARN DAGScheduler: Broadcasting large task binary with size 1361.9 KiB\n",
            "24/11/23 20:11:38 WARN DAGScheduler: Broadcasting large task binary with size 1006.5 KiB\n",
            "24/11/23 20:11:40 WARN DAGScheduler: Broadcasting large task binary with size 1150.5 KiB\n",
            "24/11/23 20:11:42 WARN DAGScheduler: Broadcasting large task binary with size 1294.4 KiB\n",
            "24/11/23 20:11:44 WARN DAGScheduler: Broadcasting large task binary with size 1438.1 KiB\n",
            "24/11/23 20:11:46 WARN DAGScheduler: Broadcasting large task binary with size 1574.5 KiB\n",
            "24/11/23 20:11:48 WARN DAGScheduler: Broadcasting large task binary with size 1695.7 KiB\n",
            "24/11/23 20:11:50 WARN DAGScheduler: Broadcasting large task binary with size 1790.1 KiB\n",
            "24/11/23 20:11:51 WARN DAGScheduler: Broadcasting large task binary with size 1838.2 KiB\n",
            "24/11/23 20:11:51 WARN DAGScheduler: Broadcasting large task binary with size 1874.2 KiB\n",
            "24/11/23 20:11:52 WARN DAGScheduler: Broadcasting large task binary with size 1342.5 KiB\n",
            "24/11/23 20:12:49 WARN DAGScheduler: Broadcasting large task binary with size 1000.4 KiB\n",
            "24/11/23 20:12:49 WARN DAGScheduler: Broadcasting large task binary with size 1237.8 KiB\n",
            "24/11/23 20:12:51 WARN DAGScheduler: Broadcasting large task binary with size 1115.1 KiB\n",
            "24/11/23 20:12:58 WARN DAGScheduler: Broadcasting large task binary with size 1158.2 KiB\n",
            "24/11/23 20:12:59 WARN DAGScheduler: Broadcasting large task binary with size 1044.9 KiB\n",
            "24/11/23 20:13:08 WARN DAGScheduler: Broadcasting large task binary with size 1167.9 KiB\n",
            "24/11/23 20:13:10 WARN DAGScheduler: Broadcasting large task binary with size 1037.7 KiB\n",
            "24/11/23 20:13:19 WARN DAGScheduler: Broadcasting large task binary with size 1010.1 KiB\n",
            "24/11/23 20:13:21 WARN DAGScheduler: Broadcasting large task binary with size 1154.6 KiB\n"
          ]
        },
        {
          "name": "stderr",
          "output_type": "stream",
          "text": [
            "24/11/23 20:13:23 WARN DAGScheduler: Broadcasting large task binary with size 1293.5 KiB\n",
            "24/11/23 20:13:24 WARN DAGScheduler: Broadcasting large task binary with size 1344.5 KiB\n",
            "24/11/23 20:13:25 WARN DAGScheduler: Broadcasting large task binary with size 1400.5 KiB\n",
            "24/11/23 20:13:26 WARN DAGScheduler: Broadcasting large task binary with size 1039.5 KiB\n",
            "24/11/23 20:13:31 WARN DAGScheduler: Broadcasting large task binary with size 1000.4 KiB\n",
            "24/11/23 20:13:32 WARN DAGScheduler: Broadcasting large task binary with size 1237.8 KiB\n",
            "24/11/23 20:13:32 WARN DAGScheduler: Broadcasting large task binary with size 1482.7 KiB\n",
            "24/11/23 20:13:33 WARN DAGScheduler: Broadcasting large task binary with size 1704.6 KiB\n",
            "24/11/23 20:13:33 WARN DAGScheduler: Broadcasting large task binary with size 1865.9 KiB\n",
            "24/11/23 20:13:34 WARN DAGScheduler: Broadcasting large task binary with size 1968.0 KiB\n",
            "24/11/23 20:13:34 WARN DAGScheduler: Broadcasting large task binary with size 1477.0 KiB\n",
            "24/11/23 20:13:41 WARN DAGScheduler: Broadcasting large task binary with size 1158.2 KiB\n",
            "24/11/23 20:13:42 WARN DAGScheduler: Broadcasting large task binary with size 1369.7 KiB\n",
            "24/11/23 20:13:43 WARN DAGScheduler: Broadcasting large task binary with size 1571.9 KiB\n",
            "24/11/23 20:13:44 WARN DAGScheduler: Broadcasting large task binary with size 1747.4 KiB\n",
            "24/11/23 20:13:45 WARN DAGScheduler: Broadcasting large task binary with size 1873.8 KiB\n",
            "24/11/23 20:13:46 WARN DAGScheduler: Broadcasting large task binary with size 1420.6 KiB\n",
            "24/11/23 20:13:54 WARN DAGScheduler: Broadcasting large task binary with size 1167.9 KiB\n",
            "24/11/23 20:13:56 WARN DAGScheduler: Broadcasting large task binary with size 1374.0 KiB\n",
            "24/11/23 20:13:57 WARN DAGScheduler: Broadcasting large task binary with size 1562.9 KiB\n",
            "24/11/23 20:13:59 WARN DAGScheduler: Broadcasting large task binary with size 1712.6 KiB\n",
            "24/11/23 20:14:00 WARN DAGScheduler: Broadcasting large task binary with size 1832.5 KiB\n",
            "24/11/23 20:14:01 WARN DAGScheduler: Broadcasting large task binary with size 1381.4 KiB\n",
            "24/11/23 20:14:10 WARN DAGScheduler: Broadcasting large task binary with size 1010.1 KiB\n",
            "24/11/23 20:14:12 WARN DAGScheduler: Broadcasting large task binary with size 1154.6 KiB\n",
            "24/11/23 20:14:14 WARN DAGScheduler: Broadcasting large task binary with size 1298.9 KiB\n",
            "24/11/23 20:14:16 WARN DAGScheduler: Broadcasting large task binary with size 1442.9 KiB\n",
            "24/11/23 20:14:18 WARN DAGScheduler: Broadcasting large task binary with size 1582.6 KiB\n",
            "24/11/23 20:14:20 WARN DAGScheduler: Broadcasting large task binary with size 1707.4 KiB\n",
            "24/11/23 20:14:22 WARN DAGScheduler: Broadcasting large task binary with size 1801.2 KiB\n",
            "24/11/23 20:14:23 WARN DAGScheduler: Broadcasting large task binary with size 1852.8 KiB\n",
            "24/11/23 20:14:23 WARN DAGScheduler: Broadcasting large task binary with size 1894.9 KiB\n",
            "24/11/23 20:14:24 WARN DAGScheduler: Broadcasting large task binary with size 1911.0 KiB\n",
            "24/11/23 20:14:24 WARN DAGScheduler: Broadcasting large task binary with size 1361.3 KiB\n",
            "24/11/23 20:15:20 WARN DAGScheduler: Broadcasting large task binary with size 1238.7 KiB\n",
            "24/11/23 20:15:21 WARN DAGScheduler: Broadcasting large task binary with size 1121.7 KiB\n",
            "24/11/23 20:15:28 WARN DAGScheduler: Broadcasting large task binary with size 1147.2 KiB\n",
            "24/11/23 20:15:30 WARN DAGScheduler: Broadcasting large task binary with size 1036.1 KiB\n",
            "24/11/23 20:15:38 WARN DAGScheduler: Broadcasting large task binary with size 1173.1 KiB\n",
            "24/11/23 20:15:40 WARN DAGScheduler: Broadcasting large task binary with size 1035.5 KiB\n",
            "24/11/23 20:15:49 WARN DAGScheduler: Broadcasting large task binary with size 1013.2 KiB\n",
            "24/11/23 20:15:51 WARN DAGScheduler: Broadcasting large task binary with size 1157.4 KiB\n",
            "24/11/23 20:15:53 WARN DAGScheduler: Broadcasting large task binary with size 1295.1 KiB\n",
            "24/11/23 20:15:54 WARN DAGScheduler: Broadcasting large task binary with size 1333.3 KiB\n",
            "24/11/23 20:15:55 WARN DAGScheduler: Broadcasting large task binary with size 1377.8 KiB\n",
            "24/11/23 20:15:55 WARN DAGScheduler: Broadcasting large task binary with size 1026.0 KiB\n",
            "24/11/23 20:16:01 WARN DAGScheduler: Broadcasting large task binary with size 1238.7 KiB\n",
            "24/11/23 20:16:02 WARN DAGScheduler: Broadcasting large task binary with size 1486.8 KiB\n",
            "24/11/23 20:16:02 WARN DAGScheduler: Broadcasting large task binary with size 1698.1 KiB\n",
            "24/11/23 20:16:03 WARN DAGScheduler: Broadcasting large task binary with size 1856.1 KiB\n",
            "24/11/23 20:16:03 WARN DAGScheduler: Broadcasting large task binary with size 1968.2 KiB\n",
            "24/11/23 20:16:04 WARN DAGScheduler: Broadcasting large task binary with size 1481.5 KiB\n",
            "24/11/23 20:16:11 WARN DAGScheduler: Broadcasting large task binary with size 1147.2 KiB\n",
            "24/11/23 20:16:12 WARN DAGScheduler: Broadcasting large task binary with size 1355.9 KiB\n",
            "24/11/23 20:16:13 WARN DAGScheduler: Broadcasting large task binary with size 1549.5 KiB\n",
            "24/11/23 20:16:14 WARN DAGScheduler: Broadcasting large task binary with size 1706.0 KiB\n",
            "24/11/23 20:16:14 WARN DAGScheduler: Broadcasting large task binary with size 1826.1 KiB\n",
            "24/11/23 20:16:15 WARN DAGScheduler: Broadcasting large task binary with size 1390.9 KiB\n",
            "24/11/23 20:16:24 WARN DAGScheduler: Broadcasting large task binary with size 1173.1 KiB\n",
            "24/11/23 20:16:25 WARN DAGScheduler: Broadcasting large task binary with size 1372.9 KiB\n",
            "24/11/23 20:16:27 WARN DAGScheduler: Broadcasting large task binary with size 1557.7 KiB\n",
            "24/11/23 20:16:28 WARN DAGScheduler: Broadcasting large task binary with size 1702.9 KiB\n",
            "24/11/23 20:16:29 WARN DAGScheduler: Broadcasting large task binary with size 1816.0 KiB\n",
            "24/11/23 20:16:30 WARN DAGScheduler: Broadcasting large task binary with size 1372.3 KiB\n",
            "24/11/23 20:16:39 WARN DAGScheduler: Broadcasting large task binary with size 1013.2 KiB\n",
            "24/11/23 20:16:41 WARN DAGScheduler: Broadcasting large task binary with size 1157.4 KiB\n",
            "24/11/23 20:16:43 WARN DAGScheduler: Broadcasting large task binary with size 1301.2 KiB\n",
            "24/11/23 20:16:45 WARN DAGScheduler: Broadcasting large task binary with size 1444.5 KiB\n",
            "24/11/23 20:16:48 WARN DAGScheduler: Broadcasting large task binary with size 1579.2 KiB\n",
            "24/11/23 20:16:49 WARN DAGScheduler: Broadcasting large task binary with size 1696.0 KiB\n",
            "24/11/23 20:16:51 WARN DAGScheduler: Broadcasting large task binary with size 1795.7 KiB\n",
            "24/11/23 20:16:52 WARN DAGScheduler: Broadcasting large task binary with size 1844.7 KiB\n",
            "24/11/23 20:16:52 WARN DAGScheduler: Broadcasting large task binary with size 1883.3 KiB\n",
            "24/11/23 20:16:53 WARN DAGScheduler: Broadcasting large task binary with size 1896.7 KiB\n",
            "24/11/23 20:16:53 WARN DAGScheduler: Broadcasting large task binary with size 1352.9 KiB\n",
            "24/11/23 20:17:50 WARN DAGScheduler: Broadcasting large task binary with size 1233.9 KiB\n",
            "24/11/23 20:17:51 WARN DAGScheduler: Broadcasting large task binary with size 1119.9 KiB\n",
            "24/11/23 20:17:58 WARN DAGScheduler: Broadcasting large task binary with size 1176.7 KiB\n",
            "24/11/23 20:18:00 WARN DAGScheduler: Broadcasting large task binary with size 1058.7 KiB\n",
            "24/11/23 20:18:08 WARN DAGScheduler: Broadcasting large task binary with size 1185.8 KiB\n",
            "24/11/23 20:18:10 WARN DAGScheduler: Broadcasting large task binary with size 1042.3 KiB\n",
            "24/11/23 20:18:20 WARN DAGScheduler: Broadcasting large task binary with size 1019.1 KiB\n",
            "24/11/23 20:18:22 WARN DAGScheduler: Broadcasting large task binary with size 1164.0 KiB\n",
            "24/11/23 20:18:24 WARN DAGScheduler: Broadcasting large task binary with size 1303.6 KiB\n",
            "24/11/23 20:18:25 WARN DAGScheduler: Broadcasting large task binary with size 1356.9 KiB\n",
            "24/11/23 20:18:26 WARN DAGScheduler: Broadcasting large task binary with size 1405.8 KiB\n",
            "24/11/23 20:18:26 WARN DAGScheduler: Broadcasting large task binary with size 1041.9 KiB\n",
            "24/11/23 20:18:32 WARN DAGScheduler: Broadcasting large task binary with size 1233.9 KiB\n",
            "24/11/23 20:18:33 WARN DAGScheduler: Broadcasting large task binary with size 1486.1 KiB\n",
            "24/11/23 20:18:33 WARN DAGScheduler: Broadcasting large task binary with size 1698.5 KiB\n",
            "24/11/23 20:18:34 WARN DAGScheduler: Broadcasting large task binary with size 1860.2 KiB\n",
            "24/11/23 20:18:34 WARN DAGScheduler: Broadcasting large task binary with size 1963.7 KiB\n",
            "24/11/23 20:18:35 WARN DAGScheduler: Broadcasting large task binary with size 1473.2 KiB\n"
          ]
        },
        {
          "name": "stderr",
          "output_type": "stream",
          "text": [
            "24/11/23 20:18:42 WARN DAGScheduler: Broadcasting large task binary with size 1176.7 KiB\n",
            "24/11/23 20:18:43 WARN DAGScheduler: Broadcasting large task binary with size 1396.8 KiB\n",
            "24/11/23 20:18:44 WARN DAGScheduler: Broadcasting large task binary with size 1590.4 KiB\n",
            "24/11/23 20:18:44 WARN DAGScheduler: Broadcasting large task binary with size 1747.0 KiB\n",
            "24/11/23 20:18:45 WARN DAGScheduler: Broadcasting large task binary with size 1859.2 KiB\n",
            "24/11/23 20:18:46 WARN DAGScheduler: Broadcasting large task binary with size 1405.9 KiB\n",
            "24/11/23 20:18:55 WARN DAGScheduler: Broadcasting large task binary with size 1185.8 KiB\n",
            "24/11/23 20:18:56 WARN DAGScheduler: Broadcasting large task binary with size 1385.7 KiB\n",
            "24/11/23 20:18:58 WARN DAGScheduler: Broadcasting large task binary with size 1562.8 KiB\n",
            "24/11/23 20:18:59 WARN DAGScheduler: Broadcasting large task binary with size 1713.6 KiB\n",
            "24/11/23 20:19:00 WARN DAGScheduler: Broadcasting large task binary with size 1826.4 KiB\n",
            "24/11/23 20:19:01 WARN DAGScheduler: Broadcasting large task binary with size 1379.0 KiB\n",
            "24/11/23 20:19:10 WARN DAGScheduler: Broadcasting large task binary with size 1019.1 KiB\n",
            "24/11/23 20:19:12 WARN DAGScheduler: Broadcasting large task binary with size 1164.0 KiB\n",
            "24/11/23 20:19:14 WARN DAGScheduler: Broadcasting large task binary with size 1308.8 KiB\n",
            "24/11/23 20:19:17 WARN DAGScheduler: Broadcasting large task binary with size 1453.6 KiB\n",
            "24/11/23 20:19:19 WARN DAGScheduler: Broadcasting large task binary with size 1597.9 KiB\n",
            "24/11/23 20:19:21 WARN DAGScheduler: Broadcasting large task binary with size 1732.5 KiB\n",
            "24/11/23 20:19:22 WARN DAGScheduler: Broadcasting large task binary with size 1835.1 KiB\n",
            "24/11/23 20:19:23 WARN DAGScheduler: Broadcasting large task binary with size 1876.7 KiB\n",
            "24/11/23 20:19:23 WARN DAGScheduler: Broadcasting large task binary with size 1898.8 KiB\n",
            "24/11/23 20:19:24 WARN DAGScheduler: Broadcasting large task binary with size 1911.1 KiB\n",
            "24/11/23 20:19:24 WARN DAGScheduler: Broadcasting large task binary with size 1915.2 KiB\n",
            "24/11/23 20:19:25 WARN DAGScheduler: Broadcasting large task binary with size 1365.5 KiB\n",
            "24/11/23 20:19:45 WARN DAGScheduler: Broadcasting large task binary with size 1143.6 KiB\n",
            "24/11/23 20:19:46 WARN DAGScheduler: Broadcasting large task binary with size 1388.7 KiB\n",
            "24/11/23 20:19:47 WARN DAGScheduler: Broadcasting large task binary with size 1622.8 KiB\n",
            "24/11/23 20:19:48 WARN DAGScheduler: Broadcasting large task binary with size 1825.9 KiB\n",
            "24/11/23 20:19:49 WARN DAGScheduler: Broadcasting large task binary with size 1982.7 KiB\n"
          ]
        }
      ],
      "source": [
        "cvModel = cv.fit(train_set)"
      ]
    },
    {
      "cell_type": "code",
      "execution_count": null,
      "id": "a3e072cf",
      "metadata": {
        "id": "a3e072cf",
        "outputId": "b6a5dbdb-da23-4de8-d613-d2044f89b3a6"
      },
      "outputs": [
        {
          "name": "stdout",
          "output_type": "stream",
          "text": [
            "Best tree depth 16, Best bin size 4\n"
          ]
        }
      ],
      "source": [
        "est = cvModel.bestModel\n",
        "print(f'Best tree depth {est.getMaxDepth()}, Best bin size {est.getMaxBins()}')"
      ]
    },
    {
      "cell_type": "code",
      "execution_count": null,
      "id": "4ed5ed5a",
      "metadata": {
        "id": "4ed5ed5a"
      },
      "outputs": [],
      "source": [
        "testresult = est.transform(test_set)"
      ]
    },
    {
      "cell_type": "code",
      "execution_count": null,
      "id": "c745eba9",
      "metadata": {
        "id": "c745eba9",
        "outputId": "d578831d-d4ae-4129-ace6-2f749dc1706b"
      },
      "outputs": [
        {
          "name": "stdout",
          "output_type": "stream",
          "text": [
            "Total test points 9999\n"
          ]
        },
        {
          "name": "stderr",
          "output_type": "stream",
          "text": [
            "24/11/23 20:19:51 WARN DAGScheduler: Broadcasting large task binary with size 1490.6 KiB\n",
            "[Stage 2438:>                                                       (0 + 2) / 2]\r"
          ]
        },
        {
          "name": "stdout",
          "output_type": "stream",
          "text": [
            "Wrongly classified count 1144\n"
          ]
        },
        {
          "name": "stderr",
          "output_type": "stream",
          "text": [
            "\r",
            "[Stage 2438:============================>                           (1 + 1) / 2]\r",
            "\r",
            "                                                                                \r"
          ]
        }
      ],
      "source": [
        "print(f'Total test points {testresult.count()}')\n",
        "wrong = testresult.where(testresult.label!=testresult.prediction)\n",
        "print(f'Wrongly classified count {wrong.count()}')"
      ]
    },
    {
      "cell_type": "code",
      "execution_count": null,
      "id": "a8652957",
      "metadata": {
        "id": "a8652957",
        "outputId": "5eaf7885-d97a-4fa3-c4dc-b341e6f1ce6c"
      },
      "outputs": [
        {
          "name": "stderr",
          "output_type": "stream",
          "text": [
            "24/11/23 20:19:54 WARN DAGScheduler: Broadcasting large task binary with size 1494.2 KiB\n"
          ]
        },
        {
          "data": {
            "image/png": "[encoded data removed]",
            "text/plain": [
              "<Figure size 640x480 with 1 Axes>"
            ]
          },
          "metadata": {},
          "output_type": "display_data"
        },
        {
          "data": {
            "image/png": "[encoded data removed]",
            "text/plain": [
              "<Figure size 640x480 with 1 Axes>"
            ]
          },
          "metadata": {},
          "output_type": "display_data"
        },
        {
          "data": {
            "image/png": "[encoded data removed]",
            "text/plain": [
              "<Figure size 640x480 with 1 Axes>"
            ]
          },
          "metadata": {},
          "output_type": "display_data"
        },
        {
          "data": {
            "image/png": "[encoded data removed]",
            "text/plain": [
              "<Figure size 640x480 with 1 Axes>"
            ]
          },
          "metadata": {},
          "output_type": "display_data"
        },
        {
          "data": {
            "image/png": "[encoded data removed]",
            "text/plain": [
              "<Figure size 640x480 with 1 Axes>"
            ]
          },
          "metadata": {},
          "output_type": "display_data"
        }
      ],
      "source": [
        "temp = wrong.limit(5).select(\"label\",\"prediction\",\"features\").collect()\n",
        "\n",
        "for r in temp:\n",
        "    plt.figure()\n",
        "    row = np.array(r.features).reshape((28,28))\n",
        "    plt.imshow(row,cmap = 'gray')\n",
        "    plt.title(f'True {r.label} Predicted {r.prediction}')"
      ]
    },
    {
      "cell_type": "code",
      "execution_count": null,
      "id": "c495c4f3",
      "metadata": {
        "id": "c495c4f3"
      },
      "outputs": [],
      "source": []
    }
  ],
  "metadata": {
    "kernelspec": {
      "display_name": "PySpark",
      "language": "python",
      "name": "pyspark"
    },
    "language_info": {
      "codemirror_mode": {
        "name": "ipython",
        "version": 3
      },
      "file_extension": ".py",
      "mimetype": "text/x-python",
      "name": "python",
      "nbconvert_exporter": "python",
      "pygments_lexer": "ipython3",
      "version": "3.11.8"
    },
    "colab": {
      "provenance": []
    }
  },
  "nbformat": 4,
  "nbformat_minor": 5
}